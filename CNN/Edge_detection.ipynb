{
 "cells": [
  {
   "cell_type": "code",
   "execution_count": 1,
   "id": "c9763a38",
   "metadata": {},
   "outputs": [
    {
     "name": "stdout",
     "output_type": "stream",
     "text": [
      "Press 'q' to quit...\n"
     ]
    }
   ],
   "source": [
    "import cv2\n",
    "\n",
    "def process_frame(frame):\n",
    "    \"\"\"\n",
    "    Apply processing to the frame.\n",
    "    Example: Convert to grayscale and apply Canny edge detection.\n",
    "    \"\"\"\n",
    "    gray = cv2.cvtColor(frame, cv2.COLOR_BGR2GRAY)\n",
    "    edges = cv2.Canny(gray, 100, 200)\n",
    "    return edges\n",
    "\n",
    "def main():\n",
    "    # Initialize webcam (0 = default webcam)\n",
    "    cap = cv2.VideoCapture(0)\n",
    "\n",
    "    if not cap.isOpened():\n",
    "        print(\"Error: Cannot open webcam\")\n",
    "        return\n",
    "\n",
    "    print(\"Press 'q' to quit...\")\n",
    "\n",
    "    while True:\n",
    "        ret, frame = cap.read()\n",
    "        if not ret:\n",
    "            print(\"Error: Failed to grab frame\")\n",
    "            break\n",
    "\n",
    "        # Process the frame\n",
    "        processed_frame = process_frame(frame)\n",
    "\n",
    "        # Show the original and processed frame\n",
    "        cv2.imshow('Original', frame)\n",
    "        cv2.imshow('Processed', processed_frame)\n",
    "\n",
    "        # Press 'q' to exit\n",
    "        if cv2.waitKey(1) & 0xFF == ord('q'):\n",
    "            break\n",
    "\n",
    "    # Release resources\n",
    "    cap.release()\n",
    "    cv2.destroyAllWindows()\n",
    "\n",
    "if __name__ == \"__main__\":\n",
    "    main()\n"
   ]
  }
 ],
 "metadata": {
  "kernelspec": {
   "display_name": "Python 3",
   "language": "python",
   "name": "python3"
  },
  "language_info": {
   "codemirror_mode": {
    "name": "ipython",
    "version": 3
   },
   "file_extension": ".py",
   "mimetype": "text/x-python",
   "name": "python",
   "nbconvert_exporter": "python",
   "pygments_lexer": "ipython3",
   "version": "3.10.6"
  }
 },
 "nbformat": 4,
 "nbformat_minor": 5
}
